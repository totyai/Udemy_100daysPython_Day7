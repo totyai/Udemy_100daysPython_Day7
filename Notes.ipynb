{
 "cells": [
  {
   "cell_type": "markdown",
   "id": "2e024687",
   "metadata": {},
   "source": [
    "# Day 7\n",
    "Hangman project\n",
    "This is a capstone of what we have learned so far.\n",
    "We will need the following concepts used for the project:\n",
    "- Functions\n",
    "- if/else\n",
    "- While/For\n",
    "etc"
   ]
  },
  {
   "cell_type": "markdown",
   "id": "8933792d",
   "metadata": {},
   "source": [
    "## First excercise \n",
    "Draw a flow chart for the program, what are the steps to take.\n",
    "[Flow chart link](Hangman-flowchart.jpg)\n",
    "\n",
    "**Embedded picture:**\n",
    "<img src=\"Hangman-flowchart.jpg\" width=\"100%\">"
   ]
  },
  {
   "cell_type": "code",
   "execution_count": null,
   "id": "10014bd3",
   "metadata": {},
   "outputs": [],
   "source": [
    "# Own created Hangman before the lessons\n",
    "Hangman.main()"
   ]
  }
 ],
 "metadata": {
  "kernelspec": {
   "display_name": "base",
   "language": "python",
   "name": "python3"
  },
  "language_info": {
   "codemirror_mode": {
    "name": "ipython",
    "version": 3
   },
   "file_extension": ".py",
   "mimetype": "text/x-python",
   "name": "python",
   "nbconvert_exporter": "python",
   "pygments_lexer": "ipython3",
   "version": "3.13.5"
  }
 },
 "nbformat": 4,
 "nbformat_minor": 5
}
