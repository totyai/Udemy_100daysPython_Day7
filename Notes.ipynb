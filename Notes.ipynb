{
 "cells": [
  {
   "cell_type": "markdown",
   "id": "2e024687",
   "metadata": {},
   "source": [
    "# Day 7\n",
    "Hangman project\n",
    "This is a capstone of what we have learned so far.\n",
    "We will need the following concepts used for the project:\n",
    "- Functions\n",
    "- if/else\n",
    "- While/For\n",
    "etc"
   ]
  },
  {
   "cell_type": "markdown",
   "id": "8933792d",
   "metadata": {},
   "source": [
    "## First excercise \n",
    "Draw a flow chart for the program, what are the steps to take.\n",
    "[Flow chart link](Hangman-flowchart.jpg)\n",
    "\n",
    "**Embedded picture:**\n",
    "<img src=\"Hangman-flowchart.jpg\" width=\"100%\">"
   ]
  },
  {
   "cell_type": "code",
   "execution_count": 1,
   "id": "10014bd3",
   "metadata": {},
   "outputs": [
    {
     "name": "stdout",
     "output_type": "stream",
     "text": [
      "Welcome to the game of handman! Below you will need to figure out a random word by guessing characters in it.\n",
      " You will see _ _ representing each character in the word. If the character you choice is in the word, it will be releaved, if you miss, one life will be deduced. \n",
      " You have 6 lifes in the beginning, if it reaches 0, you lost. Good luck!\n",
      "Your word: _____\n",
      "Your guess is incorrect! You loose a life. Your life remaining: 5\n",
      "\n",
      "  +---+\n",
      "  |   |\n",
      "  O   |\n",
      "      |\n",
      "      |\n",
      "      |\n",
      "=========\n",
      "Your word: _____\n",
      "Your guess is incorrect! You loose a life. Your life remaining: 4\n",
      "\n",
      "  +---+\n",
      "  |   |\n",
      "  O   |\n",
      "  |   |\n",
      "      |\n",
      "      |\n",
      "=========\n",
      "Your word: _____\n",
      "Your guess is incorrect! You loose a life. Your life remaining: 3\n",
      "\n",
      "  +---+\n",
      "  |   |\n",
      "  O   |\n",
      " /|   |\n",
      "      |\n",
      "      |\n",
      "=========\n",
      "Your word: _____\n",
      "You guessed correctly.\n",
      "Your word: __ee_\n",
      "Your guess is incorrect! You loose a life. Your life remaining: 2\n",
      "\n",
      "  +---+\n",
      "  |   |\n",
      "  O   |\n",
      " /|\\  |\n",
      "      |\n",
      "      |\n",
      "=========\n",
      "Your word: __ee_\n",
      "Your guess is incorrect! You loose a life. Your life remaining: 1\n",
      "\n",
      "  +---+\n",
      "  |   |\n",
      "  O   |\n",
      " /|\\  |\n",
      " /    |\n",
      "      |\n",
      "=========\n",
      "Your word: __ee_\n",
      "Your guess is incorrect! You loose a life. Your life remaining: 0\n",
      "\n",
      "  +---+\n",
      "  |   |\n",
      "  O   |\n",
      " /|\\  |\n",
      " / \\  |\n",
      "      |\n",
      "=========\n",
      "Sorry, you have lost, you have been hanged. The word was: sheep\n"
     ]
    }
   ],
   "source": [
    "# Own created Hangman before the lessons\n",
    "from Hangman import main\n",
    "main()"
   ]
  }
 ],
 "metadata": {
  "kernelspec": {
   "display_name": "Python 3",
   "language": "python",
   "name": "python3"
  },
  "language_info": {
   "codemirror_mode": {
    "name": "ipython",
    "version": 3
   },
   "file_extension": ".py",
   "mimetype": "text/x-python",
   "name": "python",
   "nbconvert_exporter": "python",
   "pygments_lexer": "ipython3",
   "version": "3.12.1"
  }
 },
 "nbformat": 4,
 "nbformat_minor": 5
}
